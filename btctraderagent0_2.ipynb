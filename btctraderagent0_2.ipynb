# Import the required modules
import yfinance as yf
import pandas as pd
import matplotlib.pyplot as plt

# Define the parameters
buy_point_volume_ratio = 3 # The ratio of the current volume to the previous volume for the buy point
buy_point_price_change = 0 # The minimum price change from the previous session for the buy point
sell_point_price_rise = 0.01 # The percentage of price rise from the last buy point for the sell point
sell_point_price_fall = -0.005 # The percentage of price fall from the last buy point for the sell point
start_fund = 1000 # The starting fund in dollars
buy_fraction = 0.05 # The fraction of the fund to use for each buy

# Get the BTC 5-minute data from the yfinance api
data = yf.download("BTC-USD", interval="5m", period="1wk")

# Calculate the volume ratio and the price change
data["volume_ratio"] = data["Volume"] / data["Volume"].shift(1)
data["price_change"] = data["Close"] / data["Close"].shift(1) - 1

# Initialize the variables
fund = start_fund # The current fund
btc = 0 # The current btc holding
buy_price = 0 # The last buy price
profit = 0 # The total profit
profitable_trades = 0 # The number of profitable trades
trades = 0 # The total number of trades
buy_points = [] # The list of buy points
sell_points = [] # The list of sell points

# Loop through the data
for i, row in data.iterrows():
    # Check if the current row satisfies the buy point condition
    if row["volume_ratio"] > buy_point_volume_ratio and row["price_change"] > buy_point_price_change:
        # Buy btc with the fraction of the fund
        buy_amount = fund * buy_fraction
        btc += buy_amount / row["Close"]
        fund -= buy_amount
        buy_price = row["Close"]
        buy_points.append(i)
        print(f"Bought btc at {buy_price} on {i}")
    # Check if the current row satisfies the sell point condition
    elif btc > 0 and (row["Close"] / buy_price - 1 > sell_point_price_rise or row["Close"] / buy_price - 1 < sell_point_price_fall):
        # Sell the btc holding
        sell_amount = btc * row["Close"]
        fund += sell_amount
        profit += sell_amount - btc * buy_price
        if sell_amount > btc * buy_price:
            profitable_trades += 1
        trades += 1
        btc = 0
        sell_points.append(i)
        print(f"Sold btc at {row['Close']} on {i}")
    # Otherwise, do nothing
    else:
        pass

# Calculate the return on investment
roi = (fund + btc * data["Close"][-1] - start_fund) / start_fund

# Print the summary of the results
print(f"Final fund: {fund}")
print(f"Final btc: {btc}")
print(f"Total profit: {profit}")
print(f"Return on investment: {roi}")
print(f"Profitable trades: {profitable_trades}")
print(f"Total trades: {trades}")

# Plot the price line chart with buy and sell points
plt.figure(figsize=(15, 10))
plt.plot(data["Close"], label="Price")
plt.scatter(buy_points, data.loc[buy_points, "Close"], marker="^", color="green", label="Buy")
plt.scatter(sell_points, data.loc[sell_points, "Close"], marker="v", color="red", label="Sell")
plt.xlabel("Date")
plt.ylabel("Price")
plt.title("BTC 5-minute trading system")
plt.legend()
plt.show()
